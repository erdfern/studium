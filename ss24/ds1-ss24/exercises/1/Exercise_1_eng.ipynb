{
 "cells": [
  {
   "cell_type": "markdown",
   "id": "3d644608",
   "metadata": {
    "tags": []
   },
   "source": [
    "## Exercise 1 \n",
    "\n",
    "#### **Submission** <br>15.04. 12:00pm (via studIP) \n",
    "#### **Defense** <br> 18.04. 08:00-10:00am \n",
    "\n",
    "A **maximum** of 5 percentage points bonus for the exam can be achieved with each sheet if:\n",
    "1) at least 60% of the worksheet has been completed correctly \n",
    "2) the worksheet has been successfully defended (explained to the tutors).\n",
    "*Conditions*:\n",
    "- Each group must register for a slot in studIP for the defense.\n",
    "- Successful defense means that a team member selected by us explains the solution and answers questions about it.\n",
    "- ChatGPT and other tools may be used, but must be cited.\n",
    "- The code must be explained without any aids.\n",
    "- We will not only evaluate the correctness of the results, but also whether the code is efficient, easy to understand, tidy and well documented.\n",
    "- Each group submits only one solution as a zip file, which is provided with the name and student number of a group member. For example, `mustermann_12345678.zip`. "
   ]
  },
  {
   "cell_type": "markdown",
   "id": "9876a671",
   "metadata": {},
   "source": [
    "In this notebook, we will implement an approximation of the sine function step by step.  \n",
    "To do this, we use the property that `sin(x)` can be represented by a sum: \n",
    "\n",
    "$$\n",
    "sin(x) = \\sum_0^\\infty (-1)^n \\frac{x^{2n+1}}{(2n+1)!}\n",
    "$$\n",
    "\n",
    "See [Wikipedia](https://de.wikipedia.org/wiki/Sinus_und_Kosinus)\n",
    "\n",
    "Hint: Use the help function (e.g. `? sin`)"
   ]
  },
  {
   "cell_type": "markdown",
   "id": "1b816ce4",
   "metadata": {},
   "source": [
    "1) Write a function to calculate the factorial of a given number. **(20%)**"
   ]
  },
  {
   "cell_type": "markdown",
   "id": "8c76fb22",
   "metadata": {},
   "source": [
    "2) Write a function that calculates the sum described above up to a limit (given as a parameter of the function). **(15%)**"
   ]
  },
  {
   "cell_type": "markdown",
   "id": "905f89fd",
   "metadata": {},
   "source": [
    "3) Import the `sin` function from the `math` module of Python. Test them out. **(5%)**"
   ]
  },
  {
   "cell_type": "markdown",
   "id": "b5027283",
   "metadata": {},
   "source": [
    "4) Compare the result with your function. How does the accuracy change when you increase the limit? **(10%)**"
   ]
  },
  {
   "cell_type": "markdown",
   "id": "19fc6051",
   "metadata": {},
   "source": [
    "5) Generate a list `x` with `float` numbers in the range 0 to 10, spaced in increments of `0.01`. **(15%)**"
   ]
  },
  {
   "cell_type": "markdown",
   "id": "09054fb3",
   "metadata": {},
   "source": [
    "6) Run the function you wrote for each `x` and store the values ​​in a new list `y`. **(5%)**"
   ]
  },
  {
   "cell_type": "markdown",
   "id": "5fded66c",
   "metadata": {},
   "source": [
    "7) Plot the results using the `plot` function of `matplotlib.pyplot`. **(10%)**"
   ]
  },
  {
   "cell_type": "markdown",
   "id": "e1aba1b1",
   "metadata": {},
   "source": [
    "8) Plot the results for different limits. How do the results differ? Additionally, plot the `sin` function from the `math` module for the same x-values to compare the results. **(10%)**"
   ]
  },
  {
   "cell_type": "markdown",
   "id": "d33a5e4b",
   "metadata": {},
   "source": [
    "9) You can view two outputs in the same plot if you run the `plot` function in the same cell. Compare your sine function for two different limits. So that you can compare them better, plot the first function only in the range $x \\in [0,5)$ and the second in the range $x \\in [5,10)$. **(10%)**"
   ]
  }
 ],
 "metadata": {
  "kernelspec": {
   "display_name": "Python 3 (ipykernel)",
   "language": "python",
   "name": "python3"
  },
  "language_info": {
   "codemirror_mode": {
    "name": "ipython",
    "version": 3
   },
   "file_extension": ".py",
   "mimetype": "text/x-python",
   "name": "python",
   "nbconvert_exporter": "python",
   "pygments_lexer": "ipython3",
   "version": "3.11.7"
  },
  "vscode": {
   "interpreter": {
    "hash": "31f2aee4e71d21fbe5cf8b01ff0e069b9275f58929596ceb00d14d90e3e16cd6"
   }
  }
 },
 "nbformat": 4,
 "nbformat_minor": 5
}
