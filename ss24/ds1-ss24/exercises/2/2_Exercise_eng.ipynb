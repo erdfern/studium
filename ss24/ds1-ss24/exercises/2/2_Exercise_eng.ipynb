{
 "cells": [
  {
   "attachments": {},
   "cell_type": "markdown",
   "id": "93cff492-b993-4b0d-a70b-13c52a25a17f",
   "metadata": {},
   "source": [
    "## Exercise 2\n",
    "\n",
    "#### **Submission** <br> April 29th 12:00 p.m. (via studIP)\n",
    "#### **Defense** <br> 02.05. 8:00 a.m. -10:00 a.m\n",
    "\n",
    "A **maximum** of 5 percentage points bonus for the exam can be achieved with each sheet if:\n",
    "1) at least 60% of the worksheet has been completed correctly \n",
    "2) the worksheet has been successfully defended (explained to the tutors).\n",
    "*Conditions*:\n",
    "- Each group must register for a slot in studIP for the defense.\n",
    "- Successful defense means that a team member selected by us explains the solution and answers questions about it.\n",
    "- ChatGPT and other tools may be used, but must be cited.\n",
    "- The code must be explained without any aids.\n",
    "- We will not only evaluate the correctness of the results, but also whether the code is efficient, easy to understand, tidy and well documented.\n",
    "- Each group submits only one solution as a zip file, which is provided with the name and student number of a group member. For example, `mustermann_12345678.zip`. "
   ]
  },
  {
   "cell_type": "markdown",
   "id": "6a89ae56-4d82-4486-ab4d-053c537e614d",
   "metadata": {},
   "source": [
    "Install (if not present) the bash kernel by: `pip install bash_kernel ; python -m bash_kernel.install`"
   ]
  },
  {
   "cell_type": "code",
   "execution_count": null,
   "id": "9f93e1ae",
   "metadata": {
    "vscode": {
     "languageId": "shellscript"
    }
   },
   "outputs": [],
   "source": []
  },
  {
   "cell_type": "markdown",
   "id": "88a1ce2f-002b-4808-980f-b820ae4880c7",
   "metadata": {},
   "source": [
    "_________"
   ]
  },
  {
   "cell_type": "markdown",
   "id": "9ff8bfe9-f1a8-474f-8f6c-c9d78269b08e",
   "metadata": {},
   "source": [
    "In this task, the goal is to edit a text using individual short scripts so that it is then easier to use (e.g. for data science applications)"
   ]
  },
  {
   "cell_type": "markdown",
   "id": "bdb4b2f2-fa60-40ae-a990-a1bc1fd35ded",
   "metadata": {},
   "source": [
    "The text we will work on below is the German Constitution."
   ]
  },
  {
   "cell_type": "markdown",
   "id": "62dd260d-5f9e-4479-b600-148d24122dd3",
   "metadata": {},
   "source": [
    "### 1 a)  [2,5%]"
   ]
  },
  {
   "cell_type": "markdown",
   "id": "a70f8b74-7a10-4887-b598-4976c2d072e8",
   "metadata": {},
   "source": [
    "Create a new folder and download the text which you can find at the following address: https://raw.githubusercontent.com/levinalex/deutsche_verfassungen/master/grundgesetz/grundgesetz.txt"
   ]
  },
  {
   "cell_type": "code",
   "execution_count": null,
   "id": "004d6486",
   "metadata": {
    "vscode": {
     "languageId": "shellscript"
    }
   },
   "outputs": [],
   "source": []
  },
  {
   "attachments": {},
   "cell_type": "markdown",
   "id": "c944b26c-796f-4640-ab5b-b1d26e39d41e",
   "metadata": {},
   "source": [
    "## 1 b) [10%]\n",
    "The text has a clear structure. But at the beginning there is a piece of text that doesn't fit into this structure. Write a one-liner that deletes everything from the text before listing the articles (and chapters). Save the output to a new file.\n",
    "Make sure your script works even if the text changes at the start!"
   ]
  },
  {
   "cell_type": "code",
   "execution_count": null,
   "id": "4c9cac63-469a-40a5-8ada-2664de253886",
   "metadata": {
    "vscode": {
     "languageId": "shellscript"
    }
   },
   "outputs": [],
   "source": []
  },
  {
   "attachments": {},
   "cell_type": "markdown",
   "id": "cea6b9eb-4e7a-4819-84be-5ee6cb9e3ccc",
   "metadata": {},
   "source": [
    "## 1 c) [10%]\n",
    "Split the text into individual files based on the chapters (e.g. \"I The Fundamental Rights\") and number the files."
   ]
  },
  {
   "cell_type": "code",
   "execution_count": null,
   "id": "1cfb21f1-8b41-4380-b26e-129e438af7df",
   "metadata": {},
   "outputs": [],
   "source": []
  },
  {
   "attachments": {},
   "cell_type": "markdown",
   "id": "9062180c-82cf-427a-b0a8-7db677df12ac",
   "metadata": {},
   "source": [
    "### 1 d) [30%]\n",
    "Split each chapter into individual articles. Each article should be in its own file with the article number as the file name. Create a new subfolder for each chapter to collect the articles."
   ]
  },
  {
   "cell_type": "code",
   "execution_count": null,
   "id": "8889932d-5312-4833-9906-f73d4ff6da3f",
   "metadata": {},
   "outputs": [],
   "source": []
  },
  {
   "attachments": {},
   "cell_type": "markdown",
   "id": "a31a8bd9-912e-4b77-894c-74bba797cdfd",
   "metadata": {},
   "source": [
    "## 1 e) [5%]\n",
    "Delete the original data and the data you generated during the process (apart from 1d)). At the end, only the files for the individual articles should be available (in separate folders)."
   ]
  },
  {
   "cell_type": "code",
   "execution_count": null,
   "id": "4c5ceceb-b054-4557-8a89-0d9b6d1ac59e",
   "metadata": {},
   "outputs": [],
   "source": []
  },
  {
   "cell_type": "markdown",
   "id": "07fe1e5b-805e-40ad-b28a-2d26553ba710",
   "metadata": {},
   "source": [
    "## 1 f) [2.5%]\n",
    "Pack the contents of the entire folder into compressed tar archive."
   ]
  },
  {
   "cell_type": "code",
   "execution_count": null,
   "id": "b6913f38-309c-464c-b5c8-77e2b92ab992",
   "metadata": {},
   "outputs": [],
   "source": []
  },
  {
   "cell_type": "markdown",
   "id": "76f7f642-b851-473a-a90d-5046ede450a2",
   "metadata": {},
   "source": [
    "_________"
   ]
  },
  {
   "attachments": {},
   "cell_type": "markdown",
   "id": "ef3bbe6b-21bd-47a8-9d74-1c13e3453c8d",
   "metadata": {
    "vscode": {
     "languageId": "shellscript"
    }
   },
   "source": [
    "## 2 a) [20%]\n",
    "Write a shell script that reports every x seconds whether a process identified by a PID is running or not.\n",
    "Pass the number of seconds and PID as parameters to the script so that it can be called as follows:\n",
    "\n",
    "```bash\n",
    "$ script [PID][SECONDS]\n",
    "```\n",
    "There are no restrictions on which commands you use for this.\n",
    "\n",
    "**Useful commands:**`grep`,`ps`"
   ]
  },
  {
   "attachments": {},
   "cell_type": "markdown",
   "id": "623c7c5d-0f24-4e65-acf9-499164214986",
   "metadata": {
    "tags": []
   },
   "source": [
    "## 2 b) [20%]\n",
    "Write a shell script that can list the directory structure of a directory specified as a parameter. To do this, write a recursive function that descends into subdirectories.\n",
    "Output the directory and files to the screen.\n",
    "Use indentation to indicate how files and directories belong to each other.\n",
    "This could then look like this, for example:\n",
    "```\n",
    "File: linux-3.14/COPYING\n",
    "File: linux-3.14/CREDITS\n",
    "Directory: linux-3.14/Documentation\n",
    "    File: linux-3.14/Documentation/00-INDEX \n",
    "    Directory: linux-3.14/Documentation/ABI\n",
    "        File: linux-3.14/Documentation/ABI/README \n",
    "        Directory: linux-3.14/Documentation/ABI/obsolete        \n",
    "            File: linux-3.14/Documentation/ABI/obsolete/proc-sys-vm-nr_pdflush_threads \n",
    "            File: linux-3.14/Documentation/ABI/obsolete/sysfs-bus-usb\n",
    "            File: linux-3.14/Documentation/ABI/obsolete/sysfs-class-rfkill\n",
    "            File: linux-3.14/Documentation/ABI/obsolete/sysfs-driver-hid-roccat-koneplus \n",
    "            File: linux-3.14/Documentation/ABI/obsolete/sysfs-driver-hid-roccat-kovaplus \n",
    "            File: linux-3.14/Documentation/ABI/obsolete/sysfs-driver-hid-roccat-pyra\n",
    "        Directory: linux-3.14/Documentation/ABI/removed \n",
    "            File: linux-3.14/Documentation/ABI/removed/devfs \n",
    "            File: linux-3.14/Documentation/ABI/removed/dv1394\n",
    "...\n",
    "\n",
    "```\n",
    "**Note:** it is possible to define functions in bash. You can find the syntax, for example here: http://tldp.org/LDP/abs/html/functions.html\n",
    "\n",
    "**Useful commands:**`find`,`printf`"
   ]
  }
 ],
 "metadata": {
  "kernelspec": {
   "display_name": "Python 3.10.7 64-bit",
   "language": "python",
   "name": "python3"
  },
  "language_info": {
   "codemirror_mode": {
    "name": "ipython",
    "version": 3
   },
   "file_extension": ".py",
   "mimetype": "text/x-python",
   "name": "python",
   "nbconvert_exporter": "python",
   "pygments_lexer": "ipython3",
   "version": "3.11.3"
  },
  "vscode": {
   "interpreter": {
    "hash": "8fa2a39dc98f14384214061e3a8c32603dbb899665817f3de4b9ccce2b523a71"
   }
  }
 },
 "nbformat": 4,
 "nbformat_minor": 5
}
